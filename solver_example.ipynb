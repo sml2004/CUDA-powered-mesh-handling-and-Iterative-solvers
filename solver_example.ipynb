{
 "cells": [
  {
   "cell_type": "code",
   "execution_count": 3,
   "metadata": {},
   "outputs": [],
   "source": [
    "import h5py\n",
    "import torch"
   ]
  },
  {
   "cell_type": "code",
   "execution_count": 1,
   "metadata": {},
   "outputs": [],
   "source": [
    "import sys\n",
    "import importlib.util\n",
    "\n",
    "solver_dir = \"/home/ubuntu/SML/solver\"\n",
    "\n",
    "sys.path.append(solver_dir)\n",
    "\n",
    "file_path = \"/home/ubuntu/SML/solver/solver.py\"\n",
    "spec = importlib.util.spec_from_file_location(\"solver\", file_path)\n",
    "solver = importlib.util.module_from_spec(spec)\n",
    "spec.loader.exec_module(solver)"
   ]
  },
  {
   "cell_type": "code",
   "execution_count": 2,
   "metadata": {},
   "outputs": [],
   "source": [
    "E = 113.8e9\n",
    "nu = 0.342\n",
    "rho = 4.47e-3"
   ]
  },
  {
   "cell_type": "code",
   "execution_count": null,
   "metadata": {},
   "outputs": [
    {
     "name": "stderr",
     "output_type": "stream",
     "text": [
      "\u001b[0m\u001b[33m2025-02-11 16:56:12.713 (1354.201s) [    7F0C6F29E740]      vtkDataReader.cxx:1507  WARN| Error reading binary data!\u001b[0m\n"
     ]
    },
    {
     "ename": "AttributeError",
     "evalue": "'NoneType' object has no attribute 'GetData'",
     "output_type": "error",
     "traceback": [
      "\u001b[0;31m---------------------------------------------------------------------------\u001b[0m",
      "\u001b[0;31mAttributeError\u001b[0m                            Traceback (most recent call last)",
      "Cell \u001b[0;32mIn[6], line 12\u001b[0m\n\u001b[1;32m      2\u001b[0m file_path \u001b[38;5;241m=\u001b[39m \u001b[38;5;124mf\u001b[39m\u001b[38;5;124m'\u001b[39m\u001b[38;5;124m/data/SimJEB/SimJEB_fixed/sample_\u001b[39m\u001b[38;5;132;01m{\u001b[39;00mi\u001b[38;5;132;01m}\u001b[39;00m\u001b[38;5;124m.h5\u001b[39m\u001b[38;5;124m'\u001b[39m\n\u001b[1;32m      5\u001b[0m \u001b[38;5;66;03m# with h5py.File(file_path, 'r') as h5_file:\u001b[39;00m\n\u001b[1;32m      6\u001b[0m \u001b[38;5;66;03m#     forces = torch.tensor(h5_file['forces'][:])\u001b[39;00m\n\u001b[1;32m      7\u001b[0m \u001b[38;5;66;03m#     rbe2 = torch.tensor(h5_file['rbe2'][:])\u001b[39;00m\n\u001b[1;32m      8\u001b[0m \u001b[38;5;66;03m#     rbe3 = torch.tensor(h5_file['rbe3'][:])\u001b[39;00m\n\u001b[1;32m      9\u001b[0m \u001b[38;5;66;03m#     outputs = torch.tensor(h5_file['outputs'][:])\u001b[39;00m\n\u001b[0;32m---> 12\u001b[0m coords, elements \u001b[38;5;241m=\u001b[39m \u001b[43msolver\u001b[49m\u001b[38;5;241;43m.\u001b[39;49m\u001b[43mvtk_loader_to_torch\u001b[49m\u001b[43m(\u001b[49m\u001b[38;5;124;43mf\u001b[39;49m\u001b[38;5;124;43m'\u001b[39;49m\u001b[38;5;124;43m/data/SimJEB/vtk/\u001b[39;49m\u001b[38;5;132;43;01m{\u001b[39;49;00m\u001b[43mi\u001b[49m\u001b[38;5;132;43;01m}\u001b[39;49;00m\u001b[38;5;124;43m.vtk\u001b[39;49m\u001b[38;5;124;43m'\u001b[39;49m\u001b[43m)\u001b[49m\n\u001b[1;32m     14\u001b[0m rbe2_mask \u001b[38;5;241m=\u001b[39m torch\u001b[38;5;241m.\u001b[39mzeros(coords\u001b[38;5;241m.\u001b[39mshape[\u001b[38;5;241m0\u001b[39m], dtype\u001b[38;5;241m=\u001b[39mtorch\u001b[38;5;241m.\u001b[39mint32)\n\u001b[1;32m     15\u001b[0m rbe2_mask[rbe2] \u001b[38;5;241m=\u001b[39m \u001b[38;5;241m1\u001b[39m\n",
      "File \u001b[0;32m~/SML/solver/element.py:29\u001b[0m, in \u001b[0;36mvtk_loader_to_torch\u001b[0;34m(file_path)\u001b[0m\n\u001b[1;32m     25\u001b[0m mesh \u001b[38;5;241m=\u001b[39m pv\u001b[38;5;241m.\u001b[39mread(file_path)\n\u001b[1;32m     27\u001b[0m points \u001b[38;5;241m=\u001b[39m torch\u001b[38;5;241m.\u001b[39mtensor(mesh\u001b[38;5;241m.\u001b[39mpoints, dtype\u001b[38;5;241m=\u001b[39mtorch\u001b[38;5;241m.\u001b[39mfloat32)  \n\u001b[0;32m---> 29\u001b[0m cells \u001b[38;5;241m=\u001b[39m \u001b[43mmesh\u001b[49m\u001b[38;5;241;43m.\u001b[39;49m\u001b[43mcells\u001b[49m\u001b[38;5;241m.\u001b[39mreshape(\u001b[38;5;241m-\u001b[39m\u001b[38;5;241m1\u001b[39m, \u001b[38;5;241m5\u001b[39m)[:, \u001b[38;5;241m1\u001b[39m:]  \n\u001b[1;32m     30\u001b[0m tetrahedrons \u001b[38;5;241m=\u001b[39m torch\u001b[38;5;241m.\u001b[39mtensor(cells, dtype\u001b[38;5;241m=\u001b[39mtorch\u001b[38;5;241m.\u001b[39mlong)  \n\u001b[1;32m     32\u001b[0m \u001b[38;5;28;01mreturn\u001b[39;00m points, tetrahedrons\n",
      "File \u001b[0;32m~/miniforge3/envs/pt24_py311/lib/python3.11/site-packages/pyvista/core/dataset.py:158\u001b[0m, in \u001b[0;36mDataSet.__getattr__\u001b[0;34m(self, item)\u001b[0m\n\u001b[1;32m    156\u001b[0m \u001b[38;5;28;01mdef\u001b[39;00m \u001b[38;5;21m__getattr__\u001b[39m(\u001b[38;5;28mself\u001b[39m, item) \u001b[38;5;241m-\u001b[39m\u001b[38;5;241m>\u001b[39m Any:\n\u001b[1;32m    157\u001b[0m \u001b[38;5;250m    \u001b[39m\u001b[38;5;124;03m\"\"\"Get attribute from base class if not found.\"\"\"\u001b[39;00m\n\u001b[0;32m--> 158\u001b[0m     \u001b[38;5;28;01mreturn\u001b[39;00m \u001b[38;5;28;43msuper\u001b[39;49m\u001b[43m(\u001b[49m\u001b[43m)\u001b[49m\u001b[38;5;241;43m.\u001b[39;49m\u001b[38;5;21;43m__getattribute__\u001b[39;49m\u001b[43m(\u001b[49m\u001b[43mitem\u001b[49m\u001b[43m)\u001b[49m\n",
      "File \u001b[0;32m~/miniforge3/envs/pt24_py311/lib/python3.11/site-packages/pyvista/core/pointset.py:2023\u001b[0m, in \u001b[0;36mUnstructuredGrid.cells\u001b[0;34m(self)\u001b[0m\n\u001b[1;32m   1976\u001b[0m \u001b[38;5;250m\u001b[39m\u001b[38;5;124;03m\"\"\"Return the cell data as a numpy object.\u001b[39;00m\n\u001b[1;32m   1977\u001b[0m \n\u001b[1;32m   1978\u001b[0m \u001b[38;5;124;03mThis is the old style VTK data layout::\u001b[39;00m\n\u001b[0;32m   (...)\u001b[0m\n\u001b[1;32m   2020\u001b[0m \n\u001b[1;32m   2021\u001b[0m \u001b[38;5;124;03m\"\"\"\u001b[39;00m\n\u001b[1;32m   2022\u001b[0m \u001b[38;5;66;03m# Flag this array as read only to ensure users do not attempt to write to it.\u001b[39;00m\n\u001b[0;32m-> 2023\u001b[0m array \u001b[38;5;241m=\u001b[39m _vtk\u001b[38;5;241m.\u001b[39mvtk_to_numpy(\u001b[38;5;28;43mself\u001b[39;49m\u001b[38;5;241;43m.\u001b[39;49m\u001b[43mGetCells\u001b[49m\u001b[43m(\u001b[49m\u001b[43m)\u001b[49m\u001b[38;5;241;43m.\u001b[39;49m\u001b[43mGetData\u001b[49m())\n\u001b[1;32m   2024\u001b[0m array\u001b[38;5;241m.\u001b[39mflags[\u001b[38;5;124m'\u001b[39m\u001b[38;5;124mWRITEABLE\u001b[39m\u001b[38;5;124m'\u001b[39m] \u001b[38;5;241m=\u001b[39m \u001b[38;5;28;01mFalse\u001b[39;00m\n\u001b[1;32m   2025\u001b[0m \u001b[38;5;28;01mreturn\u001b[39;00m array\n",
      "\u001b[0;31mAttributeError\u001b[0m: 'NoneType' object has no attribute 'GetData'"
     ]
    }
   ],
   "source": [
    "i = 0\n",
    "file_path = f'/data/SimJEB/SimJEB_fixed/sample_{i}.h5'\n",
    "\n",
    "\n",
    "with h5py.File(file_path, 'r') as h5_file:\n",
    "    forces = torch.tensor(h5_file['forces'][:])\n",
    "    rbe2 = torch.tensor(h5_file['rbe2'][:])\n",
    "    rbe3 = torch.tensor(h5_file['rbe3'][:])\n",
    "    outputs = torch.tensor(h5_file['outputs'][:])\n",
    "\n",
    "\n",
    "coords, elements = solver.vtk_loader_to_torch(f'/data/SimJEB/vtk/{i}.vtk')\n",
    "\n",
    "rbe2_mask = torch.zeros(coords.shape[0], dtype=torch.int32)\n",
    "rbe2_mask[rbe2] = 1\n",
    "\n",
    "print('coords', coords.shape, 'elements', elements.shape, 'rbe2 mask', rbe2_mask.shape, 'rbe2', rbe2.shape, 'rbe3', rbe3.shape, 'outputs', outputs.shape)\n"
   ]
  },
  {
   "cell_type": "code",
   "execution_count": 4,
   "metadata": {},
   "outputs": [],
   "source": [
    "K = solver.compute_L_matrix(coords, elements, E, nu, device=\"cuda:0\")\n",
    "F_target = torch.zeros([coords.shape[0], 6], dtype=torch.float64)\n",
    "f = solver.compute_nodal_forces(K, elements, outputs[:,0,:3], device=\"cpu\")[rbe3[0]][-1]\n",
    "F_target[rbe3] = torch.tensor([0,0,f],dtype=torch.float64)"
   ]
  },
  {
   "cell_type": "markdown",
   "metadata": {},
   "source": [
    "참값의 오차"
   ]
  },
  {
   "cell_type": "code",
   "execution_count": 5,
   "metadata": {},
   "outputs": [
    {
     "name": "stdout",
     "output_type": "stream",
     "text": [
      "815.8M\n"
     ]
    }
   ],
   "source": [
    "F = compute_nodal_forces(K, elements, outputs[:,0,:3], device=\"cpu\")\n",
    "residual = torch.norm(F - F_target, dim=-1)\n",
    "residual[rbe2] = 0\n",
    "print(human_readable_number(residual.sum()))"
   ]
  },
  {
   "cell_type": "markdown",
   "metadata": {},
   "source": [
    "변위 0의 오차"
   ]
  },
  {
   "cell_type": "code",
   "execution_count": 6,
   "metadata": {},
   "outputs": [
    {
     "name": "stdout",
     "output_type": "stream",
     "text": [
      "35.6B\n"
     ]
    }
   ],
   "source": [
    "F = compute_nodal_forces(K, elements, torch.zeros([coords.shape[0], 3], dtype=torch.float64), device=\"cpu\")\n",
    "residual = torch.norm(F - F_target, dim=-1)\n",
    "residual[rbe2] = 0\n",
    "print(human_readable_number(residual.sum()))"
   ]
  },
  {
   "cell_type": "markdown",
   "metadata": {},
   "source": [
    "BiCongStab Solver"
   ]
  },
  {
   "cell_type": "code",
   "execution_count": 7,
   "metadata": {},
   "outputs": [
    {
     "name": "stdout",
     "output_type": "stream",
     "text": [
      "CG did not converge within the maximum number of iterations.\n"
     ]
    }
   ],
   "source": [
    "displacement = stable_conjugate_gradient_solver(K, elements, F_target, rbe2, u_init=outputs[:,0,:3], device=\"cpu\", max_iter=100, tol=1e-6, dtype=torch.float64)"
   ]
  },
  {
   "cell_type": "code",
   "execution_count": 8,
   "metadata": {},
   "outputs": [
    {
     "name": "stdout",
     "output_type": "stream",
     "text": [
      "86.1M\n"
     ]
    }
   ],
   "source": [
    "F = compute_nodal_forces(K, elements, displacement, dtype=torch.float64, device=\"cpu\")\n",
    "residual = torch.norm(F - F_target, dim=-1)\n",
    "residual[rbe2] = 0\n",
    "print(human_readable_number(residual.sum()))"
   ]
  },
  {
   "cell_type": "markdown",
   "metadata": {},
   "source": [
    "Modal"
   ]
  },
  {
   "cell_type": "code",
   "execution_count": 9,
   "metadata": {},
   "outputs": [
    {
     "name": "stdout",
     "output_type": "stream",
     "text": [
      "torch.Size([570111, 12, 12])\n"
     ]
    }
   ],
   "source": [
    "M = compute_c3d4_M_matrix(coords, elements, rho, device=\"cpu\")\n",
    "print(M.shape)"
   ]
  },
  {
   "cell_type": "code",
   "execution_count": 10,
   "metadata": {},
   "outputs": [
    {
     "ename": "RuntimeError",
     "evalue": "unsupported operation: some elements of the input tensor and the written-to tensor refer to a single memory location. Please clone() the tensor before performing the operation.",
     "output_type": "error",
     "traceback": [
      "\u001b[0;31m---------------------------------------------------------------------------\u001b[0m",
      "\u001b[0;31mRuntimeError\u001b[0m                              Traceback (most recent call last)",
      "Cell \u001b[0;32mIn[10], line 1\u001b[0m\n\u001b[0;32m----> 1\u001b[0m eig_value, eig_vector \u001b[38;5;241m=\u001b[39m vectorized_modal_solver(K, M, elements, rbe2, coords\u001b[38;5;241m.\u001b[39mshape[\u001b[38;5;241m0\u001b[39m], \u001b[38;5;241m5\u001b[39m, max_iter\u001b[38;5;241m=\u001b[39m\u001b[38;5;241m100\u001b[39m, device\u001b[38;5;241m=\u001b[39m\u001b[38;5;124m\"\u001b[39m\u001b[38;5;124mcpu\u001b[39m\u001b[38;5;124m\"\u001b[39m, dtype\u001b[38;5;241m=\u001b[39mtorch\u001b[38;5;241m.\u001b[39mfloat64)\n\u001b[1;32m      2\u001b[0m \u001b[38;5;28mprint\u001b[39m(eig_value, eig_vector\u001b[38;5;241m.\u001b[39mshape)\n",
      "File \u001b[0;32m~/Downloads/solver.py:726\u001b[0m, in \u001b[0;36mvectorized_modal_solver\u001b[0;34m(K_local, M_local, elements, rbe2_node_ids, num_nodes, num_eigs, max_iter, device, dtype)\u001b[0m\n\u001b[1;32m    723\u001b[0m gram_schmidt_euclid(Y)\n\u001b[1;32m    725\u001b[0m A_k, B_k \u001b[38;5;241m=\u001b[39m build_Ak_Bk(Y)\n\u001b[0;32m--> 726\u001b[0m lam, Z \u001b[38;5;241m=\u001b[39m solve_small_gevp(A_k, B_k)\n\u001b[1;32m    728\u001b[0m Ynew \u001b[38;5;241m=\u001b[39m Y \u001b[38;5;241m@\u001b[39m Z\n\u001b[1;32m    729\u001b[0m clamp_boundary_dofs(Ynew)\n",
      "File \u001b[0;32m~/Downloads/solver.py:711\u001b[0m, in \u001b[0;36mvectorized_modal_solver.<locals>.solve_small_gevp\u001b[0;34m(A_k, B_k)\u001b[0m\n\u001b[1;32m    710\u001b[0m \u001b[38;5;28;01mdef\u001b[39;00m \u001b[38;5;21msolve_small_gevp\u001b[39m(A_k, B_k):\n\u001b[0;32m--> 711\u001b[0m     B_inv \u001b[38;5;241m=\u001b[39m invert_small_matrix(B_k)\n\u001b[1;32m    712\u001b[0m     A_ \u001b[38;5;241m=\u001b[39m B_inv \u001b[38;5;241m@\u001b[39m A_k\n\u001b[1;32m    713\u001b[0m     A_copy \u001b[38;5;241m=\u001b[39m A_\u001b[38;5;241m.\u001b[39mclone()\n",
      "File \u001b[0;32m~/Downloads/solver.py:658\u001b[0m, in \u001b[0;36mvectorized_modal_solver.<locals>.invert_small_matrix\u001b[0;34m(MM)\u001b[0m\n\u001b[1;32m    656\u001b[0m \u001b[38;5;28;01mif\u001b[39;00m \u001b[38;5;28mabs\u001b[39m(pivot) \u001b[38;5;241m<\u001b[39m \u001b[38;5;241m1e-14\u001b[39m:\n\u001b[1;32m    657\u001b[0m     pivot \u001b[38;5;241m=\u001b[39m \u001b[38;5;241m1e-14\u001b[39m\n\u001b[0;32m--> 658\u001b[0m row_i \u001b[38;5;241m/\u001b[39m\u001b[38;5;241m=\u001b[39m pivot\n\u001b[1;32m    659\u001b[0m Aug[i] \u001b[38;5;241m=\u001b[39m row_i\n\u001b[1;32m    660\u001b[0m \u001b[38;5;28;01mfor\u001b[39;00m r \u001b[38;5;129;01min\u001b[39;00m \u001b[38;5;28mrange\u001b[39m(n):\n",
      "\u001b[0;31mRuntimeError\u001b[0m: unsupported operation: some elements of the input tensor and the written-to tensor refer to a single memory location. Please clone() the tensor before performing the operation."
     ]
    }
   ],
   "source": [
    "eig_value, eig_vector = vectorized_modal_solver(K, M, elements, rbe2, coords.shape[0], 5, max_iter=100, device=\"cpu\", dtype=torch.float64)\n",
    "print(eig_value, eig_vector.shape)"
   ]
  },
  {
   "cell_type": "markdown",
   "metadata": {},
   "source": [
    "하이브리드 테스트"
   ]
  },
  {
   "cell_type": "code",
   "execution_count": 11,
   "metadata": {},
   "outputs": [],
   "source": [
    "e = identify_tetrahedral_shared_faces(elements, device=\"cpu\")"
   ]
  },
  {
   "cell_type": "code",
   "execution_count": 12,
   "metadata": {},
   "outputs": [],
   "source": [
    "element_edges = torch.cat((e[:,0,0].unsqueeze(-1), e[:,1,0].unsqueeze(-1)), dim=-1).squeeze(-1)"
   ]
  },
  {
   "cell_type": "code",
   "execution_count": 13,
   "metadata": {},
   "outputs": [
    {
     "name": "stdout",
     "output_type": "stream",
     "text": [
      "torch.Size([570111, 4]) torch.Size([1097840, 2]) torch.Size([570111, 4, 3]) torch.Size([570111, 4]) torch.Size([570111, 12, 12])\n"
     ]
    }
   ],
   "source": [
    "element_edges = torch.cat((e[:,0,0].unsqueeze(-1), e[:,1,0].unsqueeze(-1)), dim=-1).squeeze(-1)\n",
    "F_e = F[elements]\n",
    "R_e = rbe2_mask[elements]\n",
    "print(elements.shape, element_edges.shape, F_e.shape, R_e.shape, K.shape)"
   ]
  },
  {
   "cell_type": "code",
   "execution_count": null,
   "metadata": {},
   "outputs": [],
   "source": []
  }
 ],
 "metadata": {
  "kernelspec": {
   "display_name": "pt24_py311",
   "language": "python",
   "name": "python3"
  },
  "language_info": {
   "codemirror_mode": {
    "name": "ipython",
    "version": 3
   },
   "file_extension": ".py",
   "mimetype": "text/x-python",
   "name": "python",
   "nbconvert_exporter": "python",
   "pygments_lexer": "ipython3",
   "version": "3.11.10"
  }
 },
 "nbformat": 4,
 "nbformat_minor": 2
}
